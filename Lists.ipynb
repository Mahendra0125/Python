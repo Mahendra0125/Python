{
 "cells": [
  {
   "cell_type": "code",
   "execution_count": 66,
   "id": "a4792cf4",
   "metadata": {},
   "outputs": [],
   "source": [
    "a = [\"abc\", \"ab\", \"dc\"]"
   ]
  },
  {
   "cell_type": "code",
   "execution_count": 67,
   "id": "c1af7389",
   "metadata": {},
   "outputs": [],
   "source": [
    "b = [\"abc\"]"
   ]
  },
  {
   "cell_type": "code",
   "execution_count": 68,
   "id": "229e9944",
   "metadata": {},
   "outputs": [
    {
     "name": "stdout",
     "output_type": "stream",
     "text": [
      "{'abc'}\n"
     ]
    }
   ],
   "source": [
    "# Find common elements in both list\n",
    "a1 = set(a)\n",
    "b2 = set(b)\n",
    "if (a1 & b2):\n",
    "    print(a1 & b2)"
   ]
  },
  {
   "cell_type": "code",
   "execution_count": 69,
   "id": "e8dfff8e",
   "metadata": {},
   "outputs": [
    {
     "name": "stdout",
     "output_type": "stream",
     "text": [
      "{'ab', 'dc', 'abc'}\n"
     ]
    }
   ],
   "source": [
    "# Find union of elements in both list\n",
    "a1 = set(a)\n",
    "b2 = set(b)\n",
    "if (a1 | b2):\n",
    "    print(a1 | b2)"
   ]
  },
  {
   "cell_type": "code",
   "execution_count": 70,
   "id": "6149b870",
   "metadata": {},
   "outputs": [
    {
     "name": "stdout",
     "output_type": "stream",
     "text": [
      "{'dc', 'ab'}\n"
     ]
    }
   ],
   "source": [
    "# Find the difference in both list\n",
    "a1 = set(a)\n",
    "b2 = set(b)\n",
    "print(a1-b2)"
   ]
  },
  {
   "cell_type": "code",
   "execution_count": null,
   "id": "4a89b37a",
   "metadata": {},
   "outputs": [],
   "source": []
  },
  {
   "cell_type": "code",
   "execution_count": 57,
   "id": "7e5c9ef9",
   "metadata": {},
   "outputs": [],
   "source": []
  },
  {
   "cell_type": "code",
   "execution_count": null,
   "id": "afd42e8a",
   "metadata": {},
   "outputs": [],
   "source": []
  },
  {
   "cell_type": "code",
   "execution_count": null,
   "id": "f5ab4a1c",
   "metadata": {},
   "outputs": [],
   "source": []
  }
 ],
 "metadata": {
  "kernelspec": {
   "display_name": "Python 3 (ipykernel)",
   "language": "python",
   "name": "python3"
  },
  "language_info": {
   "codemirror_mode": {
    "name": "ipython",
    "version": 3
   },
   "file_extension": ".py",
   "mimetype": "text/x-python",
   "name": "python",
   "nbconvert_exporter": "python",
   "pygments_lexer": "ipython3",
   "version": "3.10.9"
  }
 },
 "nbformat": 4,
 "nbformat_minor": 5
}
