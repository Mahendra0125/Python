{
 "cells": [
  {
   "cell_type": "code",
   "execution_count": 2,
   "id": "7d70148c",
   "metadata": {},
   "outputs": [],
   "source": [
    "def get_pay(num_hours):\n",
    "    # Pre-tax pay, based on receiving $15/hour\n",
    "    pay_pretax = num_hours * 30\n",
    "    # After-tax pay, based on being in 12% tax bracket\n",
    "    pay_aftertax = pay_pretax * (1 - .12)\n",
    "    return pay_aftertax"
   ]
  },
  {
   "cell_type": "code",
   "execution_count": 8,
   "id": "28bb5387",
   "metadata": {},
   "outputs": [
    {
     "name": "stdout",
     "output_type": "stream",
     "text": [
      "4752.0\n"
     ]
    }
   ],
   "source": [
    "full_payment = get_pay(180)\n",
    "print(full_payment)"
   ]
  },
  {
   "cell_type": "code",
   "execution_count": 9,
   "id": "f5db4287",
   "metadata": {},
   "outputs": [],
   "source": [
    "def get_expected_cost(beds, baths):\n",
    "    value = 80000 + (beds*30000) + (baths*10000)\n",
    "    return value"
   ]
  },
  {
   "cell_type": "code",
   "execution_count": 11,
   "id": "df7a4a4e",
   "metadata": {},
   "outputs": [
    {
     "name": "stdout",
     "output_type": "stream",
     "text": [
      "170000\n"
     ]
    }
   ],
   "source": [
    "house = get_expected_cost(2,3)\n",
    "print(house)"
   ]
  },
  {
   "cell_type": "code",
   "execution_count": 12,
   "id": "2a47f429",
   "metadata": {},
   "outputs": [
    {
     "name": "stdout",
     "output_type": "stream",
     "text": [
      "170000\n",
      "190000\n",
      "200000\n",
      "210000\n"
     ]
    }
   ],
   "source": [
    "option_one = get_expected_cost(2,3)\n",
    "option_two = get_expected_cost(3,2)\n",
    "option_three = get_expected_cost(3,3)\n",
    "option_four = get_expected_cost(3,4)\n",
    "\n",
    "print(option_one)\n",
    "print(option_two)\n",
    "print(option_three)\n",
    "print(option_four)"
   ]
  },
  {
   "cell_type": "code",
   "execution_count": 20,
   "id": "c38e8d68",
   "metadata": {},
   "outputs": [],
   "source": [
    "def get_cost(sqft_walls, sqft_ceiling, sqft_per_gallon, cost_per_gallon):\n",
    "    cost = sqft_walls*sqft_ceiling*sqft_per_gallon*cost_per_gallon*1.0\n",
    "    return cost"
   ]
  },
  {
   "cell_type": "code",
   "execution_count": 22,
   "id": "d0625d3a",
   "metadata": {},
   "outputs": [
    {
     "name": "stdout",
     "output_type": "stream",
     "text": [
      "1007769.6\n"
     ]
    }
   ],
   "source": [
    "total_cost = get_cost(432,144,1.08,15)\n",
    "print(total_cost)"
   ]
  },
  {
   "cell_type": "code",
   "execution_count": 55,
   "id": "04d190e6",
   "metadata": {},
   "outputs": [],
   "source": [
    "def get_grade(score):\n",
    "       \n",
    "    if score in (90,100):\n",
    "        print(\"A\")\n",
    "    elif score in (80,89):\n",
    "        print(\"B\")\n",
    "    elif score in (70,79):\n",
    "        print(\"C\")\n",
    "    elif score in (60,69):\n",
    "        print(\"D\")\n",
    "    elif score in (40,59):\n",
    "        print(\"E\")\n",
    "    else :\n",
    "        print(\"F\")"
   ]
  },
  {
   "cell_type": "code",
   "execution_count": 56,
   "id": "b5f2d1d2",
   "metadata": {},
   "outputs": [
    {
     "name": "stdout",
     "output_type": "stream",
     "text": [
      "F\n"
     ]
    }
   ],
   "source": [
    "marks = get_grade(35)"
   ]
  },
  {
   "cell_type": "code",
   "execution_count": 92,
   "id": "1e89a6db",
   "metadata": {},
   "outputs": [],
   "source": [
    "def cost_of_project(engraving,solid_gold):\n",
    "    if solid_gold==True :\n",
    "        cost = (10*engraving) + 100\n",
    "    else:\n",
    "        cost = (7*engraving) + 50\n",
    "    return cost"
   ]
  },
  {
   "cell_type": "code",
   "execution_count": 98,
   "id": "869dfa76",
   "metadata": {},
   "outputs": [
    {
     "name": "stdout",
     "output_type": "stream",
     "text": [
      "160\n"
     ]
    }
   ],
   "source": [
    "price = cost_of_project(6,1)\n",
    "print(price)"
   ]
  },
  {
   "cell_type": "code",
   "execution_count": 146,
   "id": "4a5a3cb5",
   "metadata": {},
   "outputs": [],
   "source": [
    "def get_phone_bill(gb):\n",
    "    if gb < 15.0:\n",
    "        print(\"amount:\",\"100\")\n",
    "    elif gb > 15.0:\n",
    "        amount = ((gb-15.0)*100)+100\n",
    "        print(round(amount))"
   ]
  },
  {
   "cell_type": "code",
   "execution_count": 147,
   "id": "a4d0bc60",
   "metadata": {},
   "outputs": [
    {
     "name": "stdout",
     "output_type": "stream",
     "text": [
      "120\n"
     ]
    }
   ],
   "source": [
    "bill =(get_phone_bill(15.2))"
   ]
  },
  {
   "cell_type": "code",
   "execution_count": 13,
   "id": "0364872a",
   "metadata": {},
   "outputs": [],
   "source": [
    "import pandas as pd"
   ]
  },
  {
   "cell_type": "code",
   "execution_count": 28,
   "id": "5e165076",
   "metadata": {},
   "outputs": [
    {
     "data": {
      "text/html": [
       "<div>\n",
       "<style scoped>\n",
       "    .dataframe tbody tr th:only-of-type {\n",
       "        vertical-align: middle;\n",
       "    }\n",
       "\n",
       "    .dataframe tbody tr th {\n",
       "        vertical-align: top;\n",
       "    }\n",
       "\n",
       "    .dataframe thead th {\n",
       "        text-align: right;\n",
       "    }\n",
       "</style>\n",
       "<table border=\"1\" class=\"dataframe\">\n",
       "  <thead>\n",
       "    <tr style=\"text-align: right;\">\n",
       "      <th></th>\n",
       "      <th>Apples</th>\n",
       "      <th>Bananas</th>\n",
       "    </tr>\n",
       "  </thead>\n",
       "  <tbody>\n",
       "    <tr>\n",
       "      <th>0</th>\n",
       "      <td>30</td>\n",
       "      <td>21</td>\n",
       "    </tr>\n",
       "  </tbody>\n",
       "</table>\n",
       "</div>"
      ],
      "text/plain": [
       "   Apples  Bananas\n",
       "0      30       21"
      ]
     },
     "execution_count": 28,
     "metadata": {},
     "output_type": "execute_result"
    }
   ],
   "source": [
    "fruits = pd.DataFrame({\"Apples\" : [30], \"Bananas\" : [21]})\n",
    "fruits"
   ]
  },
  {
   "cell_type": "code",
   "execution_count": 24,
   "id": "7f5fc67c",
   "metadata": {},
   "outputs": [],
   "source": [
    "fruits_sales = pd.DataFrame({\"Apples\" : [35,41],\"Bananas\" : [21,34]}, index = ['2017 Sales','2018 Sales'])"
   ]
  },
  {
   "cell_type": "code",
   "execution_count": 27,
   "id": "1e9d89bc",
   "metadata": {},
   "outputs": [
    {
     "data": {
      "text/html": [
       "<div>\n",
       "<style scoped>\n",
       "    .dataframe tbody tr th:only-of-type {\n",
       "        vertical-align: middle;\n",
       "    }\n",
       "\n",
       "    .dataframe tbody tr th {\n",
       "        vertical-align: top;\n",
       "    }\n",
       "\n",
       "    .dataframe thead th {\n",
       "        text-align: right;\n",
       "    }\n",
       "</style>\n",
       "<table border=\"1\" class=\"dataframe\">\n",
       "  <thead>\n",
       "    <tr style=\"text-align: right;\">\n",
       "      <th></th>\n",
       "      <th>Apples</th>\n",
       "      <th>Bananas</th>\n",
       "    </tr>\n",
       "  </thead>\n",
       "  <tbody>\n",
       "    <tr>\n",
       "      <th>2017 Sales</th>\n",
       "      <td>35</td>\n",
       "      <td>21</td>\n",
       "    </tr>\n",
       "    <tr>\n",
       "      <th>2018 Sales</th>\n",
       "      <td>41</td>\n",
       "      <td>34</td>\n",
       "    </tr>\n",
       "  </tbody>\n",
       "</table>\n",
       "</div>"
      ],
      "text/plain": [
       "            Apples  Bananas\n",
       "2017 Sales      35       21\n",
       "2018 Sales      41       34"
      ]
     },
     "execution_count": 27,
     "metadata": {},
     "output_type": "execute_result"
    }
   ],
   "source": [
    "fruits_sales"
   ]
  },
  {
   "cell_type": "code",
   "execution_count": 38,
   "id": "a237a67c",
   "metadata": {},
   "outputs": [],
   "source": [
    "ingredients = pd.Series(['4 cups' ,'1 cup' ,'2 large' ,'1 can'], index = [\"Flour\",\"Milk\",\"Egg\",\"Spam\"],name =\"Dinner\")"
   ]
  },
  {
   "cell_type": "code",
   "execution_count": 39,
   "id": "781ab365",
   "metadata": {},
   "outputs": [
    {
     "data": {
      "text/plain": [
       "Flour     4 cups\n",
       "Milk       1 cup\n",
       "Egg      2 large\n",
       "Spam       1 can\n",
       "Name: Dinner, dtype: object"
      ]
     },
     "execution_count": 39,
     "metadata": {},
     "output_type": "execute_result"
    }
   ],
   "source": [
    "ingredients"
   ]
  },
  {
   "cell_type": "code",
   "execution_count": 40,
   "id": "b3728468",
   "metadata": {},
   "outputs": [
    {
     "data": {
      "text/html": [
       "<div>\n",
       "<style scoped>\n",
       "    .dataframe tbody tr th:only-of-type {\n",
       "        vertical-align: middle;\n",
       "    }\n",
       "\n",
       "    .dataframe tbody tr th {\n",
       "        vertical-align: top;\n",
       "    }\n",
       "\n",
       "    .dataframe thead th {\n",
       "        text-align: right;\n",
       "    }\n",
       "</style>\n",
       "<table border=\"1\" class=\"dataframe\">\n",
       "  <thead>\n",
       "    <tr style=\"text-align: right;\">\n",
       "      <th></th>\n",
       "      <th>Cows</th>\n",
       "      <th>Goats</th>\n",
       "    </tr>\n",
       "  </thead>\n",
       "  <tbody>\n",
       "    <tr>\n",
       "      <th>Year 1</th>\n",
       "      <td>12</td>\n",
       "      <td>22</td>\n",
       "    </tr>\n",
       "    <tr>\n",
       "      <th>Year 2</th>\n",
       "      <td>20</td>\n",
       "      <td>19</td>\n",
       "    </tr>\n",
       "  </tbody>\n",
       "</table>\n",
       "</div>"
      ],
      "text/plain": [
       "        Cows  Goats\n",
       "Year 1    12     22\n",
       "Year 2    20     19"
      ]
     },
     "execution_count": 40,
     "metadata": {},
     "output_type": "execute_result"
    }
   ],
   "source": [
    "animals = pd.DataFrame({'Cows': [12, 20], 'Goats': [22, 19]}, index=['Year 1', 'Year 2'])\n",
    "animals"
   ]
  },
  {
   "cell_type": "code",
   "execution_count": null,
   "id": "0b6b52f8",
   "metadata": {},
   "outputs": [],
   "source": []
  }
 ],
 "metadata": {
  "kernelspec": {
   "display_name": "Python 3 (ipykernel)",
   "language": "python",
   "name": "python3"
  },
  "language_info": {
   "codemirror_mode": {
    "name": "ipython",
    "version": 3
   },
   "file_extension": ".py",
   "mimetype": "text/x-python",
   "name": "python",
   "nbconvert_exporter": "python",
   "pygments_lexer": "ipython3",
   "version": "3.10.9"
  }
 },
 "nbformat": 4,
 "nbformat_minor": 5
}
